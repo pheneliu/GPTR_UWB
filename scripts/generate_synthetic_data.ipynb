{
 "cells": [
  {
   "cell_type": "code",
   "execution_count": 15,
   "metadata": {},
   "outputs": [],
   "source": [
    "import os\n",
    "import numpy as np\n",
    "import pickle\n",
    "import math\n",
    "from math import sqrt\n",
    "from numpy import cos, sin\n",
    "\n",
    "from pypcd import pypcd\n",
    "from ceva import Ceva\n",
    "\n",
    "import rosbag\n",
    "import rospy\n",
    "\n",
    "from geometry_msgs.msg import TransformStamped\n",
    "from tf2_msgs.msg import TFMessage\n",
    "\n",
    "from livox_ros_driver.msg import CustomPoint\n",
    "from livox_ros_driver.msg import CustomMsg\n",
    "\n",
    "import myutil as util\n",
    "from myparproc.ParProc import ParProc\n",
    "from myparproc.ProgressCheck import ProgressCheck\n",
    "\n",
    "cloudpkl = 'cloud_avia_mid_dynamic_extrinsics.pkl'\n",
    "cloudbag = 'cloud_avia_mid_dynamic_extrinsics.bag'\n"
   ]
  },
  {
   "cell_type": "code",
   "execution_count": 16,
   "metadata": {},
   "outputs": [
    {
     "name": "stdout",
     "output_type": "stream",
     "text": [
      "xyz [-0.1767767   0.         -0.53033009]\n",
      "ypr [180.  45.   0.]\n"
     ]
    }
   ],
   "source": [
    "# Lidar extrinsic\n",
    "T_B_L = [np.array([[ 1/sqrt(2),  0,  1/sqrt(2),  0],\n",
    "                   [ 0,          1,  0,          0],\n",
    "                   [-1/sqrt(2),  0,  1/sqrt(2),  0],\n",
    "                   [ 0,          0,  0,          1]]),\n",
    "         np.array([[-1,  0,  0, -0.5 ],\n",
    "                   [ 0, -1,  0,  0   ],\n",
    "                   [ 0,  0,  1, -0.25],\n",
    "                   [ 0,  0,  0,  1   ]]),\n",
    "        ]\n",
    "\n",
    "T_L0_L1 = util.tfmult(util.tfinv(T_B_L[0]), T_B_L[1])\n",
    "Rot01 = T_L0_L1[0:3, 0:3]\n",
    "Pos01 = T_L0_L1[0:3, 3]\n",
    "ypr01 = np.array(util.rotm2eul(Rot01))/math.pi*180\n",
    "print(\"xyz\", Pos01)\n",
    "print(\"ypr\", ypr01)\n"
   ]
  },
  {
   "cell_type": "code",
   "execution_count": 17,
   "metadata": {},
   "outputs": [],
   "source": [
    "# Generate the trajectory\n",
    "dt = 2e-5\n",
    "tmax = 69\n",
    "tstart = 5\n",
    "\n",
    "onesigma = 0.02\n",
    "\n",
    "# Lidar extrinsic\n",
    "T_B_L = [np.array([[ 1/sqrt(2),  0,  1/sqrt(2),  0],\n",
    "                   [ 0,          1,  0,          0],\n",
    "                   [-1/sqrt(2),  0,  1/sqrt(2),  0],\n",
    "                   [ 0,          0,  0,          1]]),\n",
    "         np.array([[-1,  0,  0, -0.5 ],\n",
    "                   [ 0, -1,  0,  0   ],\n",
    "                   [ 0,  0,  1, -0.25],\n",
    "                   [ 0,  0,  0,  1   ]]),\n",
    "        ]\n",
    "\n",
    "lidar_type  = ['mid360', 'avia']\n",
    "lidar_line  = [4, 6]\n",
    "time_offset = [0, 0.043]\n",
    "\n",
    "# Number of lidars\n",
    "Nl = len(T_B_L)\n",
    "\n",
    "# The 6 planes\n",
    "xb = 6\n",
    "yb = 6\n",
    "zb = 3\n",
    "planes = [(np.array([1, 0, 0]).reshape((3, 1)), np.array([ xb, 0,  0 ]).reshape((3, 1))),\n",
    "          (np.array([1, 0, 0]).reshape((3, 1)), np.array([-xb, 0,  0 ]).reshape((3, 1))),\n",
    "          (np.array([0, 1, 0]).reshape((3, 1)), np.array([ 0,  yb, 0 ]).reshape((3, 1))),\n",
    "          (np.array([0, 1, 0]).reshape((3, 1)), np.array([ 0, -yb, 0 ]).reshape((3, 1))),\n",
    "          (np.array([0, 0, 1]).reshape((3, 1)), np.array([ 0,  0,  zb]).reshape((3, 1))),\n",
    "          (np.array([0, 0, 1]).reshape((3, 1)), np.array([ 0,  0,  0 ]).reshape((3, 1)))]\n",
    "\n",
    "# Radius\n",
    "r = 2\n",
    "# Frequency\n",
    "w = 0.25\n",
    "# Time span\n",
    "t = np.arange(0, tmax, dt)\n",
    "\n",
    "# x y z coordinates of the body\n",
    "p_W_B = []; R_W_B = []; x = []; y = []; z = []; vx = []; vy = []; vz = []\n",
    "for time in t:\n",
    "    if time < tstart:\n",
    "        # Position\n",
    "        x.append(0)\n",
    "        y.append(0)\n",
    "        z.append(0.75)\n",
    "        # Velocity\n",
    "        vx.append(0)\n",
    "        vy.append(0)\n",
    "        vz.append(0)\n",
    "        # Orientation\n",
    "        yaw = math.pi/4\n",
    "        rot = np.array([[cos(yaw), -sin(yaw), 0],\n",
    "                        [sin(yaw),  cos(yaw), 0],\n",
    "                        [       0,         0, 1]])\n",
    "        R_W_B.append(rot)\n",
    "    else:\n",
    "        tprime = time-tstart\n",
    "        # Position\n",
    "        x.append(2*sin(w*tprime))\n",
    "        y.append(2*sin(w*tprime)*cos(w*tprime))\n",
    "        z.append(0.75)\n",
    "        # Velocity\n",
    "        vx.append(2*w*cos(w*tprime))\n",
    "        vy.append(2*w*(cos(w*tprime)*cos(w*tprime) - sin(w*tprime)*sin(w*tprime)))\n",
    "        vz.append(0)\n",
    "        # Orientation\n",
    "        yaw = np.arctan2(vy[-1], vx[-1])\n",
    "        rot = np.array([[cos(yaw), -sin(yaw), 0],\n",
    "                        [sin(yaw),  cos(yaw), 0],\n",
    "                        [       0,         0, 1]])\n",
    "        R_W_B.append(rot)\n",
    "\n",
    "p_W_B = [np.array([x_, y_, z_]).reshape(3, 1) for x_, y_, z_ in zip(x, y, z)]\n",
    "\n",
    "# Beam direction\n",
    "e_inL = [[[] for line_idx in range(lidar_line[lidx])] for lidx in range(Nl)]\n",
    "\n",
    "for lidx in range(Nl):\n",
    "    if lidar_type[lidx] == 'avia':\n",
    "        for line_idx in range(lidar_line[lidx]):\n",
    "            er = cos(57*7*t)\n",
    "            eu = er*cos(60.43*(t + 1.57*line_idx))\n",
    "            ev = er*sin(60.43*(t + 1.57*line_idx))\n",
    "            e_inL[lidx][line_idx] = [np.array([1, eu[idx], ev[idx]]).reshape(3, 1) for idx, stamp in enumerate(t)]\n",
    "            e_inL[lidx][line_idx] = [e / np.linalg.norm(e) for e in e_inL[lidx][line_idx]]\n",
    "            e_inL[lidx][line_idx] = np.array(e_inL[lidx][line_idx]).reshape(-1, 3)\n",
    "    elif lidar_type[lidx] == 'mid360':\n",
    "        for line_idx in range(lidar_line[lidx]):\n",
    "            ex = cos(60.43*t) + 0.4*cos(50.7*(t + 0.025*line_idx))\n",
    "            ey = sin(60.43*t) + 0.4*sin(50.7*(t + 0.025*line_idx))\n",
    "            ez = 1\n",
    "            e_inL[lidx][line_idx] = [np.array([ex[idx], ey[idx], ez]).reshape(3, 1) for idx, stamp in enumerate(t)]\n",
    "            e_inL[lidx][line_idx] = [e / np.linalg.norm(e) for e in e_inL[lidx][line_idx]]\n",
    "            e_inL[lidx][line_idx] = np.array(e_inL[lidx][line_idx]).reshape(-1, 3)"
   ]
  },
  {
   "cell_type": "code",
   "execution_count": 18,
   "metadata": {},
   "outputs": [],
   "source": [
    "# Return the point on the wall that a beam hits\n",
    "def findHitpoint(p, e, std_dev=0):\n",
    "    # Check if the ray hits any of the planes\n",
    "    for n, m in planes:\n",
    "        nm_ = np.squeeze(n.T@m)\n",
    "        np_ = np.squeeze(n.T@p)\n",
    "        ne_ = np.squeeze(n.T@e)\n",
    "        eta = np.random.normal(0, std_dev, 1)\n",
    "        if ne_ == 0:\n",
    "            continue\n",
    "        else:\n",
    "            s = (nm_ - np_)/ne_\n",
    "            h = p + (s + eta)*e\n",
    "            if s > 0 and -xb <= h[0] <= xb and -yb <= h[1] <= yb and 0 <= h[2] <= zb:\n",
    "                return s, h, ne_.item()\n",
    "    return 0, p, 0"
   ]
  },
  {
   "cell_type": "code",
   "execution_count": 19,
   "metadata": {},
   "outputs": [],
   "source": [
    "# # Visualize the trajectory\n",
    "\n",
    "# figpos = [18, 6]\n",
    "# fig, ax = plt.subplots(nrows=1, ncols= 1 + Nl, figsize=figpos)\n",
    "\n",
    "# # ax[0].clear()\n",
    "# # ax[0] = fig.add_subplot(111, projection='3d')\n",
    "# ax[0].plot(x, y)\n",
    "# ax[0].set_xlabel('x [m]')\n",
    "# ax[0].set_ylabel('y [m]')\n",
    "# # ax[0].set_zlabel('z [m]')\n",
    "\n",
    "# ax[0].grid('on')\n",
    "\n",
    "# flower = [[[] for line_idx in range(lidar_line[lidx])] for lidx in range(Nl)]\n",
    "# for lidx in range(0, Nl):\n",
    "#     for line_idx in range(lidar_line[lidx]):\n",
    "#         flower[lidx][line_idx].append(ax[lidx+1].plot(0, 0, '2r'))\n",
    "#         flower[lidx][line_idx].append(ax[lidx+1].plot(0, 0, 'b'))\n",
    "#     ax[lidx+1].set_aspect('equal')\n",
    "#     ax[lidx+1].set_xlim([-1.2, 1.2])\n",
    "#     ax[lidx+1].set_ylim([-1.2, 1.2])\n",
    "\n",
    "# # Plot the velcity at t = 69\n",
    "# arrow = None\n",
    "# idx_prev = 0\n",
    "# idx_curr = 0\n",
    "# for idx_curr, time in enumerate(t):\n",
    "    \n",
    "#     # idx = np.where(t==time)[0][0]\n",
    "#     if (idx_curr - idx_prev)*dt < 0.1:\n",
    "#         continue\n",
    "\n",
    "#     if time > 6.0:\n",
    "#         break\n",
    "\n",
    "#     px_ =  p_W_B[idx_curr][0]\n",
    "#     py_ =  p_W_B[idx_curr][1]\n",
    "\n",
    "#     # if arrow is not None:\n",
    "#     #     arrow.remove()\n",
    "#     # arrow = ax[0].arrow(px_, py_, vx_, vy_, width=0.01, head_width=0.05, head_length=0.1, fc='blue', ec='blue')\n",
    "\n",
    "#     # if vxline is not None or vyline is not None:\n",
    "#     #     vxline.remove()\n",
    "#     #     vyline.remove()\n",
    "#     # vxline, = ax[1].plot(t[:idx_curr], vx[:idx_curr], 'r')\n",
    "#     # vyline, = ax[1].plot(t[:idx_curr], vy[:idx_curr], 'b')\n",
    "\n",
    "#     for lidx in range(Nl):\n",
    "#         for line_idx in range(lidar_line[lidx]):\n",
    "#             flower[lidx][line_idx][0][0].set_data(e_inL[lidx][line_idx][idx_prev:idx_curr, 1], e_inL[lidx][line_idx][idx_prev:idx_curr, 2])\n",
    "#             # flower[lidx][line_idx][1][0].set_data(e_inL[lidx][line_idx][0:idx_curr,        1], e_inL[lidx][line_idx][0:idx_curr,        2])\n",
    "\n",
    "#     idx_prev = idx_curr\n",
    "    \n",
    "#     display.clear_output(wait=True)\n",
    "#     display.display(plt.gcf())\n",
    "    "
   ]
  },
  {
   "cell_type": "code",
   "execution_count": 20,
   "metadata": {},
   "outputs": [
    {
     "name": "stderr",
     "output_type": "stream",
     "text": [
      "Lidar 0 Generation:  Progress:   0%\n",
      "Lidar 1 Generation:  Progress:   0%\n",
      "Lidar 0 Generation:  Progress:   1%\n",
      "Lidar 1 Generation:  Progress:   1%\n",
      "Lidar 0 Generation:  Progress:   2%\n",
      "Lidar 1 Generation:  Progress:   2%\n",
      "Lidar 0 Generation:  Progress:   3%\n",
      "Lidar 0 Generation:  Progress:   4%\n",
      "Lidar 1 Generation:  Progress:   3%\n",
      "Lidar 0 Generation:  Progress:   5%\n",
      "Lidar 1 Generation:  Progress:   4%\n",
      "Lidar 0 Generation:  Progress:   6%\n",
      "Lidar 0 Generation:  Progress:   7%\n",
      "Lidar 1 Generation:  Progress:   5%\n",
      "Lidar 0 Generation:  Progress:   8%\n",
      "Lidar 1 Generation:  Progress:   6%\n",
      "Lidar 0 Generation:  Progress:   9%\n",
      "Lidar 0 Generation:  Progress:  10%\n",
      "Lidar 1 Generation:  Progress:   7%\n",
      "Lidar 0 Generation:  Progress:  11%\n",
      "Lidar 1 Generation:  Progress:   8%\n",
      "Lidar 0 Generation:  Progress:  12%\n",
      "Lidar 0 Generation:  Progress:  13%\n",
      "Lidar 1 Generation:  Progress:   9%\n",
      "Lidar 0 Generation:  Progress:  14%\n",
      "Lidar 1 Generation:  Progress:  10%\n",
      "Lidar 0 Generation:  Progress:  15%\n",
      "Lidar 0 Generation:  Progress:  16%\n",
      "Lidar 1 Generation:  Progress:  11%\n",
      "Lidar 0 Generation:  Progress:  17%\n",
      "Lidar 1 Generation:  Progress:  12%\n",
      "Lidar 0 Generation:  Progress:  18%\n",
      "Lidar 0 Generation:  Progress:  19%\n",
      "Lidar 1 Generation:  Progress:  13%\n",
      "Lidar 0 Generation:  Progress:  20%\n",
      "Lidar 1 Generation:  Progress:  14%\n",
      "Lidar 0 Generation:  Progress:  21%\n",
      "Lidar 0 Generation:  Progress:  22%\n",
      "Lidar 1 Generation:  Progress:  15%\n",
      "Lidar 0 Generation:  Progress:  23%\n",
      "Lidar 1 Generation:  Progress:  16%\n",
      "Lidar 0 Generation:  Progress:  24%\n",
      "Lidar 0 Generation:  Progress:  25%\n",
      "Lidar 1 Generation:  Progress:  17%\n",
      "Lidar 0 Generation:  Progress:  26%\n",
      "Lidar 1 Generation:  Progress:  18%\n",
      "Lidar 0 Generation:  Progress:  27%\n",
      "Lidar 1 Generation:  Progress:  19%\n",
      "Lidar 0 Generation:  Progress:  28%\n",
      "Lidar 0 Generation:  Progress:  29%\n",
      "Lidar 1 Generation:  Progress:  20%\n",
      "Lidar 0 Generation:  Progress:  30%\n",
      "Lidar 1 Generation:  Progress:  21%\n",
      "Lidar 0 Generation:  Progress:  31%\n",
      "Lidar 0 Generation:  Progress:  32%\n",
      "Lidar 1 Generation:  Progress:  22%\n",
      "Lidar 0 Generation:  Progress:  33%\n",
      "Lidar 1 Generation:  Progress:  23%\n",
      "Lidar 0 Generation:  Progress:  34%\n",
      "Lidar 0 Generation:  Progress:  35%\n",
      "Lidar 1 Generation:  Progress:  24%\n",
      "Lidar 0 Generation:  Progress:  36%\n",
      "Lidar 1 Generation:  Progress:  25%\n",
      "Lidar 0 Generation:  Progress:  37%\n",
      "Lidar 1 Generation:  Progress:  26%\n",
      "Lidar 0 Generation:  Progress:  38%\n",
      "Lidar 0 Generation:  Progress:  39%\n",
      "Lidar 1 Generation:  Progress:  27%\n",
      "Lidar 0 Generation:  Progress:  40%\n",
      "Lidar 0 Generation:  Progress:  41%\n",
      "Lidar 1 Generation:  Progress:  28%\n",
      "Lidar 0 Generation:  Progress:  42%\n",
      "Lidar 1 Generation:  Progress:  29%\n",
      "Lidar 0 Generation:  Progress:  43%\n",
      "Lidar 1 Generation:  Progress:  30%\n",
      "Lidar 0 Generation:  Progress:  44%\n",
      "Lidar 0 Generation:  Progress:  45%\n",
      "Lidar 1 Generation:  Progress:  31%\n",
      "Lidar 0 Generation:  Progress:  46%\n",
      "Lidar 1 Generation:  Progress:  32%\n",
      "Lidar 0 Generation:  Progress:  47%\n",
      "Lidar 0 Generation:  Progress:  48%\n",
      "Lidar 1 Generation:  Progress:  33%\n",
      "Lidar 0 Generation:  Progress:  49%\n",
      "Lidar 0 Generation:  Progress:  50%\n",
      "Lidar 1 Generation:  Progress:  34%\n",
      "Lidar 0 Generation:  Progress:  51%\n",
      "Lidar 1 Generation:  Progress:  35%\n",
      "Lidar 0 Generation:  Progress:  52%\n",
      "Lidar 0 Generation:  Progress:  53%\n",
      "Lidar 1 Generation:  Progress:  36%\n",
      "Lidar 0 Generation:  Progress:  54%\n",
      "Lidar 1 Generation:  Progress:  37%\n",
      "Lidar 0 Generation:  Progress:  55%\n",
      "Lidar 1 Generation:  Progress:  38%\n",
      "Lidar 0 Generation:  Progress:  56%\n",
      "Lidar 0 Generation:  Progress:  57%\n",
      "Lidar 1 Generation:  Progress:  39%\n",
      "Lidar 0 Generation:  Progress:  58%\n",
      "Lidar 1 Generation:  Progress:  40%\n",
      "Lidar 0 Generation:  Progress:  59%\n",
      "Lidar 1 Generation:  Progress:  41%\n",
      "Lidar 0 Generation:  Progress:  60%\n",
      "Lidar 0 Generation:  Progress:  61%\n",
      "Lidar 1 Generation:  Progress:  42%\n",
      "Lidar 0 Generation:  Progress:  62%\n",
      "Lidar 1 Generation:  Progress:  43%\n",
      "Lidar 0 Generation:  Progress:  63%\n",
      "Lidar 0 Generation:  Progress:  64%\n",
      "Lidar 1 Generation:  Progress:  44%\n",
      "Lidar 0 Generation:  Progress:  65%\n",
      "Lidar 1 Generation:  Progress:  45%\n",
      "Lidar 0 Generation:  Progress:  66%\n",
      "Lidar 0 Generation:  Progress:  67%\n",
      "Lidar 1 Generation:  Progress:  46%\n",
      "Lidar 0 Generation:  Progress:  68%\n",
      "Lidar 1 Generation:  Progress:  47%\n",
      "Lidar 0 Generation:  Progress:  69%\n",
      "Lidar 0 Generation:  Progress:  70%\n",
      "Lidar 1 Generation:  Progress:  48%\n",
      "Lidar 0 Generation:  Progress:  71%\n",
      "Lidar 1 Generation:  Progress:  49%\n",
      "Lidar 0 Generation:  Progress:  72%\n",
      "Lidar 0 Generation:  Progress:  73%\n",
      "Lidar 1 Generation:  Progress:  50%\n",
      "Lidar 0 Generation:  Progress:  74%\n",
      "Lidar 1 Generation:  Progress:  51%\n",
      "Lidar 0 Generation:  Progress:  75%\n",
      "Lidar 0 Generation:  Progress:  76%\n",
      "Lidar 1 Generation:  Progress:  52%\n",
      "Lidar 0 Generation:  Progress:  77%\n",
      "Lidar 1 Generation:  Progress:  53%\n",
      "Lidar 0 Generation:  Progress:  78%\n",
      "Lidar 0 Generation:  Progress:  79%\n",
      "Lidar 1 Generation:  Progress:  54%\n",
      "Lidar 0 Generation:  Progress:  80%\n",
      "Lidar 1 Generation:  Progress:  55%\n",
      "Lidar 0 Generation:  Progress:  81%\n",
      "Lidar 0 Generation:  Progress:  82%\n",
      "Lidar 1 Generation:  Progress:  56%\n",
      "Lidar 0 Generation:  Progress:  83%\n",
      "Lidar 1 Generation:  Progress:  57%\n",
      "Lidar 0 Generation:  Progress:  84%\n",
      "Lidar 1 Generation:  Progress:  58%\n",
      "Lidar 0 Generation:  Progress:  85%\n",
      "Lidar 0 Generation:  Progress:  86%\n",
      "Lidar 1 Generation:  Progress:  59%\n",
      "Lidar 0 Generation:  Progress:  87%\n",
      "Lidar 1 Generation:  Progress:  60%\n",
      "Lidar 0 Generation:  Progress:  88%\n",
      "Lidar 0 Generation:  Progress:  89%\n",
      "Lidar 1 Generation:  Progress:  61%\n",
      "Lidar 0 Generation:  Progress:  90%\n",
      "Lidar 1 Generation:  Progress:  62%\n",
      "Lidar 0 Generation:  Progress:  91%\n",
      "Lidar 1 Generation:  Progress:  63%\n",
      "Lidar 0 Generation:  Progress:  92%\n",
      "Lidar 0 Generation:  Progress:  93%\n",
      "Lidar 1 Generation:  Progress:  64%\n",
      "Lidar 0 Generation:  Progress:  94%\n",
      "Lidar 1 Generation:  Progress:  65%\n",
      "Lidar 0 Generation:  Progress:  95%\n",
      "Lidar 0 Generation:  Progress:  96%\n",
      "Lidar 1 Generation:  Progress:  66%\n",
      "Lidar 0 Generation:  Progress:  97%\n",
      "Lidar 1 Generation:  Progress:  67%\n",
      "Lidar 0 Generation:  Progress:  98%\n",
      "Lidar 0 Generation:  Progress:  99%\n",
      "Lidar 1 Generation:  Progress:  68%\n",
      "Lidar 0 Generation:  Progress:  99%\n",
      "Lidar 0 Generation:  Progress: 100%\n",
      "Lidar 1 Generation:  Progress:  69%\n",
      "Lidar 1 Generation:  Progress:  70%\n",
      "Lidar 1 Generation:  Progress:  71%\n",
      "Lidar 1 Generation:  Progress:  72%\n",
      "Lidar 1 Generation:  Progress:  73%\n",
      "Lidar 1 Generation:  Progress:  74%\n",
      "Lidar 1 Generation:  Progress:  75%\n",
      "Lidar 1 Generation:  Progress:  76%\n",
      "Lidar 1 Generation:  Progress:  77%\n",
      "Lidar 1 Generation:  Progress:  78%\n",
      "Lidar 1 Generation:  Progress:  79%\n"
     ]
    },
    {
     "name": "stdout",
     "output_type": "stream",
     "text": [
      "Jobs remained: 1\n",
      "Jobs remained: 1\n"
     ]
    },
    {
     "name": "stderr",
     "output_type": "stream",
     "text": [
      "Lidar 1 Generation:  Progress:  80%\n"
     ]
    },
    {
     "name": "stdout",
     "output_type": "stream",
     "text": [
      "Jobs remained: 1\n",
      "Jobs remained: 1\n"
     ]
    },
    {
     "name": "stderr",
     "output_type": "stream",
     "text": [
      "Lidar 1 Generation:  Progress:  81%\n"
     ]
    },
    {
     "name": "stdout",
     "output_type": "stream",
     "text": [
      "Jobs remained: 1\n",
      "Jobs remained: 1\n"
     ]
    },
    {
     "name": "stderr",
     "output_type": "stream",
     "text": [
      "Lidar 1 Generation:  Progress:  82%\n"
     ]
    },
    {
     "name": "stdout",
     "output_type": "stream",
     "text": [
      "Jobs remained: 1\n"
     ]
    },
    {
     "name": "stderr",
     "output_type": "stream",
     "text": [
      "Lidar 1 Generation:  Progress:  83%\n"
     ]
    },
    {
     "name": "stdout",
     "output_type": "stream",
     "text": [
      "Jobs remained: 1\n",
      "Jobs remained: 1\n"
     ]
    },
    {
     "name": "stderr",
     "output_type": "stream",
     "text": [
      "Lidar 1 Generation:  Progress:  84%\n"
     ]
    },
    {
     "name": "stdout",
     "output_type": "stream",
     "text": [
      "Jobs remained: 1\n",
      "Jobs remained: 1\n"
     ]
    },
    {
     "name": "stderr",
     "output_type": "stream",
     "text": [
      "Lidar 1 Generation:  Progress:  85%\n"
     ]
    },
    {
     "name": "stdout",
     "output_type": "stream",
     "text": [
      "Jobs remained: 1\n",
      "Jobs remained: 1\n"
     ]
    },
    {
     "name": "stderr",
     "output_type": "stream",
     "text": [
      "Lidar 1 Generation:  Progress:  86%\n"
     ]
    },
    {
     "name": "stdout",
     "output_type": "stream",
     "text": [
      "Jobs remained: 1\n",
      "Jobs remained: 1\n"
     ]
    },
    {
     "name": "stderr",
     "output_type": "stream",
     "text": [
      "Lidar 1 Generation:  Progress:  87%\n"
     ]
    },
    {
     "name": "stdout",
     "output_type": "stream",
     "text": [
      "Jobs remained: 1\n"
     ]
    },
    {
     "name": "stderr",
     "output_type": "stream",
     "text": [
      "Lidar 1 Generation:  Progress:  88%\n"
     ]
    },
    {
     "name": "stdout",
     "output_type": "stream",
     "text": [
      "Jobs remained: 1\n",
      "Jobs remained: 1\n"
     ]
    },
    {
     "name": "stderr",
     "output_type": "stream",
     "text": [
      "Lidar 1 Generation:  Progress:  89%\n"
     ]
    },
    {
     "name": "stdout",
     "output_type": "stream",
     "text": [
      "Jobs remained: 1\n",
      "Jobs remained: 1\n"
     ]
    },
    {
     "name": "stderr",
     "output_type": "stream",
     "text": [
      "Lidar 1 Generation:  Progress:  90%\n"
     ]
    },
    {
     "name": "stdout",
     "output_type": "stream",
     "text": [
      "Jobs remained: 1\n",
      "Jobs remained: 1\n"
     ]
    },
    {
     "name": "stderr",
     "output_type": "stream",
     "text": [
      "Lidar 1 Generation:  Progress:  91%\n"
     ]
    },
    {
     "name": "stdout",
     "output_type": "stream",
     "text": [
      "Jobs remained: 1\n",
      "Jobs remained: 1\n"
     ]
    },
    {
     "name": "stderr",
     "output_type": "stream",
     "text": [
      "Lidar 1 Generation:  Progress:  92%\n"
     ]
    },
    {
     "name": "stdout",
     "output_type": "stream",
     "text": [
      "Jobs remained: 1\n",
      "Jobs remained: 1\n"
     ]
    },
    {
     "name": "stderr",
     "output_type": "stream",
     "text": [
      "Lidar 1 Generation:  Progress:  93%\n"
     ]
    },
    {
     "name": "stdout",
     "output_type": "stream",
     "text": [
      "Jobs remained: 1\n"
     ]
    },
    {
     "name": "stderr",
     "output_type": "stream",
     "text": [
      "Lidar 1 Generation:  Progress:  94%\n"
     ]
    },
    {
     "name": "stdout",
     "output_type": "stream",
     "text": [
      "Jobs remained: 1\n",
      "Jobs remained: 1\n"
     ]
    },
    {
     "name": "stderr",
     "output_type": "stream",
     "text": [
      "Lidar 1 Generation:  Progress:  95%\n"
     ]
    },
    {
     "name": "stdout",
     "output_type": "stream",
     "text": [
      "Jobs remained: 1\n",
      "Jobs remained: 1\n"
     ]
    },
    {
     "name": "stderr",
     "output_type": "stream",
     "text": [
      "Lidar 1 Generation:  Progress:  96%\n"
     ]
    },
    {
     "name": "stdout",
     "output_type": "stream",
     "text": [
      "Jobs remained: 1\n",
      "Jobs remained: 1\n"
     ]
    },
    {
     "name": "stderr",
     "output_type": "stream",
     "text": [
      "Lidar 1 Generation:  Progress:  97%\n"
     ]
    },
    {
     "name": "stdout",
     "output_type": "stream",
     "text": [
      "Jobs remained: 1\n",
      "Jobs remained: 1\n"
     ]
    },
    {
     "name": "stderr",
     "output_type": "stream",
     "text": [
      "Lidar 1 Generation:  Progress:  98%\n"
     ]
    },
    {
     "name": "stdout",
     "output_type": "stream",
     "text": [
      "Jobs remained: 1\n",
      "Jobs remained: 1\n"
     ]
    },
    {
     "name": "stderr",
     "output_type": "stream",
     "text": [
      "Lidar 1 Generation:  Progress:  99%\n"
     ]
    },
    {
     "name": "stdout",
     "output_type": "stream",
     "text": [
      "Jobs remained: 1\n"
     ]
    },
    {
     "name": "stderr",
     "output_type": "stream",
     "text": [
      "Lidar 1 Generation:  Progress:  99%\n",
      "Lidar 1 Generation:  Progress: 100%\n"
     ]
    },
    {
     "name": "stdout",
     "output_type": "stream",
     "text": [
      "Jobs remained: 1\n",
      "Jobs remained: 1\n",
      "Jobs remained: 1\n",
      "Jobs remained: 1\n",
      "Jobs remained: 1\n",
      "Jobs remained: 1\n",
      "Jobs remained: 1\n",
      "Jobs remained: 1\n",
      "Jobs remained: 1\n",
      "Jobs remained: 1\n",
      "Jobs remained: 1\n",
      "Jobs remained: 1\n",
      "Jobs remained: 1\n",
      "Jobs remained: 1\n",
      "Jobs remained: 1\n",
      "Jobs remained: 1\n",
      "Jobs remained: 1\n",
      "Jobs remained: 1\n",
      "Jobs remained: 1\n",
      "Jobs remained: 1\n",
      "Jobs remained: 1\n",
      "Jobs remained: 1\n",
      "Jobs remained: 1\n",
      "Jobs remained: 0\n"
     ]
    }
   ],
   "source": [
    "# Generate the point for each lidar over the trajectory\n",
    "\n",
    "clouds = []\n",
    "for n in range(Nl):\n",
    "    clouds.append([])\n",
    "\n",
    "def makeCloudData(lidx, proc_idx=None, output_queue=None):\n",
    "    \n",
    "    # Create the progress checker\n",
    "    pck = ProgressCheck(len(t))\n",
    "    \n",
    "    # List to store the points\n",
    "    cloud = []\n",
    "    \n",
    "    # Get the extrinsics\n",
    "    R_B_L, t_B_L = T_B_L[lidx][:3, :3], T_B_L[lidx][:3, 3].reshape(3, 1)\n",
    "\n",
    "    for idx, stamp in enumerate(t):\n",
    "\n",
    "        if 10 < stamp < 20 and lidx == 1:\n",
    "            t_B_L_dyn = t_B_L + np.array([0, 0, -0.1]).reshape((3, 1))\n",
    "        else:\n",
    "            t_B_L_dyn = t_B_L\n",
    "            \n",
    "        # Find the lidar rotation\n",
    "        R_W_L = R_W_B[idx] @ R_B_L\n",
    "        q_W_L = util.rotm2quat(R_W_L)\n",
    "\n",
    "        # Find the lidar position\n",
    "        p_W_L = p_W_B[idx] + R_W_B[idx] @ t_B_L_dyn\n",
    "\n",
    "        h_inL = [[] for line_idx in range(lidar_line[lidx])]\n",
    "        cosne = [[] for line_idx in range(lidar_line[lidx])]\n",
    "\n",
    "        for line_idx in range(lidar_line[lidx]):\n",
    "            # Find beam direction\n",
    "            # e_inL = np.array([1, eu[idx], ev[idx]]).reshape(3, 1)\n",
    "            # e_inL[lidx] = e_inL[lidx] / np.linalg.norm(e_inL)\n",
    "            e_inW = R_W_L@e_inL[lidx][line_idx][idx].reshape((3, 1))\n",
    "\n",
    "            # Find the hit point\n",
    "            s, h_inW, cosne[line_idx] = findHitpoint(p_W_L, e_inW, onesigma)\n",
    "\n",
    "            # Transform the point to lidar frame\n",
    "            h_inL[line_idx] = R_W_L.T@(h_inW - p_W_L)\n",
    "\n",
    "        # Extract the elements\n",
    "        # px, py, pz = h_inL[0].item(), h_inL[1].item(), h_inL[2].item()\n",
    "        # qx, qy, qz, qw = q_W_L[1].item(), q_W_L[2].item(), q_W_L[3].item(), q_W_L[0].item()\n",
    "\n",
    "        # Store the point\n",
    "        cloud.append([stamp, h_inL, p_W_L, R_W_L, cosne])\n",
    "\n",
    "        # Update the progress\n",
    "        pck.updateProgress(f'Lidar {lidx} Generation: ')\n",
    "\n",
    "    if proc_idx is not None and output_queue is not None and len(output_queue) > proc_idx:\n",
    "        output_queue[proc_idx] = cloud\n",
    "\n",
    "# Add the jobs\n",
    "pp = ParProc(Nl)\n",
    "for lidx in range(Nl):\n",
    "    pp.addprocwithoutput(makeCloudData, lidx, lidx)\n",
    "    # makeCloudData(lidx, lidx, clouds)\n",
    "pp.join()\n",
    "\n",
    "# Extract the output\n",
    "clouds = list(pp.output_queue)\n"
   ]
  },
  {
   "cell_type": "code",
   "execution_count": 21,
   "metadata": {},
   "outputs": [],
   "source": [
    "# Dump the data\n",
    "with open(cloudpkl, 'wb') as f:\n",
    "    pickle.dump(clouds, f)\n"
   ]
  },
  {
   "cell_type": "code",
   "execution_count": 22,
   "metadata": {},
   "outputs": [],
   "source": [
    "# Load the data\n",
    "with open(cloudpkl, 'rb') as file:\n",
    "    clouds = pickle.load(file)\n"
   ]
  },
  {
   "cell_type": "code",
   "execution_count": 23,
   "metadata": {},
   "outputs": [],
   "source": [
    "# Export the data\n",
    "outputdir = cloudbag\n",
    "outputdir = outputdir.replace('.bag', '') + '/clouds/'\n",
    "for lidx, _ in enumerate(lidar_type):\n",
    "    os.makedirs(outputdir + f'/__lidar_{lidx}__points', exist_ok=True)\n",
    "\n",
    "# Create the rosbag\n",
    "bag = rosbag.Bag(cloudbag, 'w')\n",
    "\n",
    "pose_gtr = [[] for lidx, _ in enumerate(lidar_type)]\n",
    "\n",
    "# Loop through the points and write the pointcloud\n",
    "for lidx, points in enumerate(clouds):\n",
    "    Npoints = len(points)\n",
    "    idx_offset = int(time_offset[lidx]/dt)\n",
    "    for bidx in range(idx_offset, Npoints, int(0.1/dt)):\n",
    "        \n",
    "        if (bidx + int(0.1/dt) > Npoints):\n",
    "            continue\n",
    "\n",
    "        scan = []\n",
    "        t0 = clouds[lidx][bidx][0]\n",
    "\n",
    "        # if t0 > 20:\n",
    "        #     break\n",
    "\n",
    "        for idx in range(bidx, bidx + int(0.1/dt)):\n",
    "            for line_idx in range(lidar_line[lidx]):\n",
    "                pt = int((clouds[lidx][idx][0] - t0)*1e9)\n",
    "                px = clouds[lidx][idx][1][line_idx][0]\n",
    "                py = clouds[lidx][idx][1][line_idx][1]\n",
    "                pz = clouds[lidx][idx][1][line_idx][2]\n",
    "                pi = abs(1.0 - clouds[lidx][idx][-1][line_idx])*1000\n",
    "                scan.append((px, py, pz, pi, pt, line_idx))\n",
    "\n",
    "        p_W_L = clouds[lidx][bidx][2]\n",
    "        R_W_L = clouds[lidx][bidx][3]\n",
    "        q_W_L = util.rotm2quat(R_W_L)\n",
    "        \n",
    "        # Convert scan to pointcloud msg\n",
    "        scan = np.array(scan, dtype=[('x', '<f4'), ('y', '<f4'), ('z', '<f4'), ('intensity', '<f4'), ('t', '<u4'), ('ring', np.uint8)])\n",
    "        scan_msg = pypcd.PointCloud.from_array(scan).to_msg()\n",
    "        scan_msg.header.stamp = rospy.Time(t0)\n",
    "        scan_msg.header.frame_id = f'lidar_{lidx}'\n",
    "\n",
    "        # Convert scan to livox msg\n",
    "        livox_msg = CustomMsg()\n",
    "        livox_msg.header = scan_msg.header\n",
    "        livox_msg.timebase = int(t0*1e9)\n",
    "        livox_msg.point_num = len(scan)\n",
    "        livox_msg.points =[] \n",
    "        for point in scan:\n",
    "            lvpoint = CustomPoint()\n",
    "            lvpoint.offset_time = point['t'].item()\n",
    "            lvpoint.x = point['x'].item()\n",
    "            lvpoint.y = point['y'].item()\n",
    "            lvpoint.z = point['z'].item()\n",
    "            lvpoint.reflectivity = np.uint8(point['intensity'].item()/1000.0*255)\n",
    "            lvpoint.tag = 0\n",
    "            lvpoint.line = point['ring']\n",
    "            livox_msg.points.append(lvpoint)\n",
    "        \n",
    "        # print(f\"Created scan with {livox_msg.point_num} points\")\n",
    "        \n",
    "        pcd_name = outputdir + f'/__lidar_{lidx}__points/{scan_msg.header.stamp.secs:04d}.{scan_msg.header.stamp.nsecs:09d}.pcd'\n",
    "        pypcd.PointCloud.from_array(scan).save_pcd(pcd_name, compression='binary')\n",
    "\n",
    "        # Create a tf message\n",
    "        transform_msg_config = TFMessage()\n",
    "        transform_msg = TransformStamped()\n",
    "        transform_msg.header.stamp = rospy.Time(t0)\n",
    "        transform_msg.header.frame_id = 'world'\n",
    "        transform_msg.header.seq = int(bidx % 1e4)\n",
    "        transform_msg.child_frame_id = f'lidar_{lidx}'\n",
    "        transform_msg.transform.translation.x = p_W_L[0].item()\n",
    "        transform_msg.transform.translation.y = p_W_L[1].item()\n",
    "        transform_msg.transform.translation.z = p_W_L[2].item()\n",
    "        transform_msg.transform.rotation.x = q_W_L[1].item()\n",
    "        transform_msg.transform.rotation.y = q_W_L[2].item()\n",
    "        transform_msg.transform.rotation.z = q_W_L[3].item()\n",
    "        transform_msg.transform.rotation.w = q_W_L[0].item()\n",
    "        transform_msg_config.transforms.append(transform_msg)\n",
    "\n",
    "        pose_gtr[lidx].append((transform_msg.transform.translation.x,\n",
    "                               transform_msg.transform.translation.y,\n",
    "                               transform_msg.transform.translation.z,\n",
    "                               t0, t0,\n",
    "                               transform_msg.transform.rotation.x,\n",
    "                               transform_msg.transform.rotation.y,\n",
    "                               transform_msg.transform.rotation.z,\n",
    "                               transform_msg.transform.rotation.w))\n",
    "        \n",
    "        bag.write(f'/lidar_{lidx}/points', scan_msg, rospy.Time(t0))\n",
    "        bag.write(f'/lidar_{lidx}/points_livox', livox_msg, rospy.Time(t0))\n",
    "        bag.write(f'/tf', transform_msg_config, rospy.Time(t0))\n",
    "\n",
    "# Close the bag\n",
    "bag.close()\n",
    "\n",
    "# Save the ground truth\n",
    "os.makedirs(outputdir + '/../gtr/', exist_ok=True)\n",
    "for lidx, _ in enumerate(lidar_type):\n",
    "    pypcd.PointCloud.from_array(np.array(pose_gtr[lidx],\n",
    "        dtype=[('x', '<f4'), ('y', '<f4'), ('z', '<f4'), ('intensity', '<f4'), ('t', '<f8'),\n",
    "               ('qx', '<f4'), ('qy', '<f4'), ('qz', '<f4'), ('qw', '<f4')])\n",
    "        ).save_pcd(outputdir + f'/../gtr/lidar_{lidx}_gtr.pcd', compression='ascii', precision=9)\n"
   ]
  },
  {
   "cell_type": "code",
   "execution_count": 24,
   "metadata": {},
   "outputs": [],
   "source": [
    "# !rosbag play $cloudbag & rviz -d /home/tmn/ros_ws/dev_ws/src/gptr/scripts/gptr.rviz"
   ]
  },
  {
   "cell_type": "code",
   "execution_count": 25,
   "metadata": {},
   "outputs": [
    {
     "name": "stderr",
     "output_type": "stream",
     "text": [
      "Generating priormap:  Progress:   0%\n",
      "Generating priormap:  Progress:   1%\n",
      "Generating priormap:  Progress:   2%\n",
      "Generating priormap:  Progress:   3%\n",
      "Generating priormap:  Progress:   4%\n",
      "Generating priormap:  Progress:   5%\n",
      "Generating priormap:  Progress:   6%\n",
      "Generating priormap:  Progress:   7%\n",
      "Generating priormap:  Progress:   8%\n",
      "Generating priormap:  Progress:   9%\n",
      "Generating priormap:  Progress:  10%\n",
      "Generating priormap:  Progress:  11%\n",
      "Generating priormap:  Progress:  12%\n",
      "Generating priormap:  Progress:  13%\n",
      "Generating priormap:  Progress:  14%\n",
      "Generating priormap:  Progress:  15%\n",
      "Generating priormap:  Progress:  16%\n",
      "Generating priormap:  Progress:  17%\n",
      "Generating priormap:  Progress:  18%\n",
      "Generating priormap:  Progress:  19%\n",
      "Generating priormap:  Progress:  20%\n",
      "Generating priormap:  Progress:  21%\n",
      "Generating priormap:  Progress:  22%\n",
      "Generating priormap:  Progress:  23%\n",
      "Generating priormap:  Progress:  24%\n",
      "Generating priormap:  Progress:  25%\n",
      "Generating priormap:  Progress:  26%\n",
      "Generating priormap:  Progress:  27%\n",
      "Generating priormap:  Progress:  28%\n",
      "Generating priormap:  Progress:  29%\n",
      "Generating priormap:  Progress:  30%\n",
      "Generating priormap:  Progress:  31%\n",
      "Generating priormap:  Progress:  32%\n",
      "Generating priormap:  Progress:  33%\n",
      "Generating priormap:  Progress:  34%\n",
      "Generating priormap:  Progress:  35%\n",
      "Generating priormap:  Progress:  36%\n",
      "Generating priormap:  Progress:  37%\n",
      "Generating priormap:  Progress:  38%\n",
      "Generating priormap:  Progress:  39%\n",
      "Generating priormap:  Progress:  40%\n",
      "Generating priormap:  Progress:  41%\n",
      "Generating priormap:  Progress:  42%\n",
      "Generating priormap:  Progress:  43%\n",
      "Generating priormap:  Progress:  44%\n",
      "Generating priormap:  Progress:  45%\n",
      "Generating priormap:  Progress:  46%\n",
      "Generating priormap:  Progress:  47%\n",
      "Generating priormap:  Progress:  48%\n",
      "Generating priormap:  Progress:  49%\n",
      "Generating priormap:  Progress:  50%\n",
      "Generating priormap:  Progress:  51%\n",
      "Generating priormap:  Progress:  52%\n",
      "Generating priormap:  Progress:  53%\n",
      "Generating priormap:  Progress:  54%\n",
      "Generating priormap:  Progress:  55%\n",
      "Generating priormap:  Progress:  56%\n",
      "Generating priormap:  Progress:  57%\n",
      "Generating priormap:  Progress:  58%\n",
      "Generating priormap:  Progress:  59%\n",
      "Generating priormap:  Progress:  60%\n",
      "Generating priormap:  Progress:  61%\n",
      "Generating priormap:  Progress:  62%\n",
      "Generating priormap:  Progress:  63%\n",
      "Generating priormap:  Progress:  64%\n",
      "Generating priormap:  Progress:  65%\n",
      "Generating priormap:  Progress:  66%\n",
      "Generating priormap:  Progress:  67%\n",
      "Generating priormap:  Progress:  68%\n",
      "Generating priormap:  Progress:  69%\n",
      "Generating priormap:  Progress:  70%\n",
      "Generating priormap:  Progress:  71%\n",
      "Generating priormap:  Progress:  72%\n",
      "Generating priormap:  Progress:  73%\n",
      "Generating priormap:  Progress:  74%\n",
      "Generating priormap:  Progress:  75%\n",
      "Generating priormap:  Progress:  76%\n",
      "Generating priormap:  Progress:  77%\n",
      "Generating priormap:  Progress:  78%\n",
      "Generating priormap:  Progress:  79%\n",
      "Generating priormap:  Progress:  80%\n",
      "Generating priormap:  Progress:  81%\n",
      "Generating priormap:  Progress:  82%\n",
      "Generating priormap:  Progress:  83%\n",
      "Generating priormap:  Progress:  84%\n",
      "Generating priormap:  Progress:  85%\n",
      "Generating priormap:  Progress:  86%\n",
      "Generating priormap:  Progress:  87%\n",
      "Generating priormap:  Progress:  88%\n",
      "Generating priormap:  Progress:  89%\n",
      "Generating priormap:  Progress:  90%\n",
      "Generating priormap:  Progress:  91%\n",
      "Generating priormap:  Progress:  92%\n",
      "Generating priormap:  Progress:  93%\n",
      "Generating priormap:  Progress:  94%\n",
      "Generating priormap:  Progress:  95%\n",
      "Generating priormap:  Progress:  96%\n",
      "Generating priormap:  Progress:  97%\n",
      "Generating priormap:  Progress:  98%\n",
      "Generating priormap:  Progress:  99%\n",
      "Generating priormap:  Progress:  99%\n",
      "Generating priormap:  Progress: 100%\n"
     ]
    }
   ],
   "source": [
    "import math\n",
    "\n",
    "# Generate the priormap\n",
    "\n",
    "da = 0.5\n",
    "\n",
    "psi_ = list(np.arange(0, 360, da))\n",
    "theta_ = list(np.arange(-60, 60, da))\n",
    "\n",
    "p0 = np.array([0, 0, 1.5]).reshape((3, 1))\n",
    "priormap = []\n",
    "\n",
    "pck = ProgressCheck(len(psi_))\n",
    "for yaw_deg in psi_:\n",
    "    for pitch_deg in theta_:\n",
    "        \n",
    "        # Angles in radiance\n",
    "        yaw_rad = yaw_deg*math.pi/180\n",
    "        pitch_rad = pitch_deg*math.pi/180\n",
    "\n",
    "        # Beam bearing\n",
    "        ex = cos(yaw_rad)*cos(pitch_rad)\n",
    "        ey = sin(yaw_rad)*cos(pitch_rad)\n",
    "        ez = sin(pitch_rad)\n",
    "        e  = np.array([ex, ey, ez]).reshape((3, 1))\n",
    "\n",
    "        # Find the hit point\n",
    "        s, h, cosne = findHitpoint(p0, e, 0.001)\n",
    "\n",
    "        # Extract the x y z intensity\n",
    "        x = h[0].item()\n",
    "        y = h[1].item()\n",
    "        z = h[2].item()\n",
    "        intensity = abs(cosne)*1000\n",
    "\n",
    "        # Save the point\n",
    "        priormap.append((x, y, z, intensity))\n",
    "    \n",
    "    # Update the progress\n",
    "    pck.updateProgress('Generating priormap: ')\n",
    "\n",
    "# Convert to array\n",
    "priormap = np.array(priormap, dtype=[('x', '<f4'), ('y', '<f4'), ('z', '<f4'), ('intensity', '<f4')])\n",
    "\n",
    "# Save the pointcloud\n",
    "pypcd.save_point_cloud_bin(pypcd.PointCloud.from_array(priormap), 'priormap.pcd')\n"
   ]
  }
 ],
 "metadata": {
  "kernelspec": {
   "display_name": "py3810",
   "language": "python",
   "name": "python3"
  },
  "language_info": {
   "codemirror_mode": {
    "name": "ipython",
    "version": 3
   },
   "file_extension": ".py",
   "mimetype": "text/x-python",
   "name": "python",
   "nbconvert_exporter": "python",
   "pygments_lexer": "ipython3",
   "version": "3.8.19"
  }
 },
 "nbformat": 4,
 "nbformat_minor": 2
}
